{
  "cells": [
    {
      "cell_type": "code",
      "execution_count": 3,
      "id": "_OsqKJ4jJnay",
      "metadata": {
        "colab": {
          "base_uri": "https://localhost:8080/"
        },
        "id": "_OsqKJ4jJnay",
        "outputId": "563f3eca-afb4-4ea0-aa71-f1745fb3c132"
      },
      "outputs": [
        {
          "name": "stdout",
          "output_type": "stream",
          "text": [
            "Collecting pyspark==3.0.0\n",
            "  Downloading pyspark-3.0.0.tar.gz (204.7 MB)\n",
            "\u001b[2K     \u001b[90m━━━━━━━━━━━━━━━━━━━━━━━━━━━━━━━━━━━━━━━━\u001b[0m \u001b[32m204.7/204.7 MB\u001b[0m \u001b[31m2.5 MB/s\u001b[0m eta \u001b[36m0:00:00\u001b[0m\n",
            "\u001b[?25h  Preparing metadata (setup.py) ... \u001b[?25l\u001b[?25hdone\n",
            "Collecting py4j==0.10.9 (from pyspark==3.0.0)\n",
            "  Downloading py4j-0.10.9-py2.py3-none-any.whl (198 kB)\n",
            "\u001b[2K     \u001b[90m━━━━━━━━━━━━━━━━━━━━━━━━━━━━━━━━━━━━━━━━\u001b[0m \u001b[32m198.6/198.6 kB\u001b[0m \u001b[31m24.8 MB/s\u001b[0m eta \u001b[36m0:00:00\u001b[0m\n",
            "\u001b[?25hBuilding wheels for collected packages: pyspark\n",
            "  Building wheel for pyspark (setup.py) ... \u001b[?25l\u001b[?25hdone\n",
            "  Created wheel for pyspark: filename=pyspark-3.0.0-py2.py3-none-any.whl size=205044159 sha256=b6eec6050a3124caebc2a1f14874f5a1bdee839c84054cf00883e0bca5184c0e\n",
            "  Stored in directory: /root/.cache/pip/wheels/b1/bb/8b/ca24d3f756f2ed967225b0871898869db676eb5846df5adc56\n",
            "Successfully built pyspark\n",
            "Installing collected packages: py4j, pyspark\n",
            "  Attempting uninstall: py4j\n",
            "    Found existing installation: py4j 0.10.9.7\n",
            "    Uninstalling py4j-0.10.9.7:\n",
            "      Successfully uninstalled py4j-0.10.9.7\n",
            "Successfully installed py4j-0.10.9 pyspark-3.0.0\n"
          ]
        }
      ],
      "source": [
        "!pip3 install pyspark==3.0.0"
      ]
    },
    {
      "cell_type": "code",
      "execution_count": 23,
      "id": "377ad44c-9c34-4abf-a09c-f9f00a7afbb1",
      "metadata": {
        "id": "377ad44c-9c34-4abf-a09c-f9f00a7afbb1"
      },
      "outputs": [],
      "source": [
        "import os\n",
        "from pyspark import SparkContext, SparkConf\n",
        "from pyspark.sql import SparkSession\n",
        "from pyspark.sql.functions import col\n",
        "import pyspark.sql as sql\n",
        "import xml.etree.ElementTree as ET\n",
        "from pyspark.sql.functions import explode\n",
        "from pyspark.sql import Window\n",
        "from pyspark.sql.functions import row_number\n",
        "import requests"
      ]
    },
    {
      "cell_type": "code",
      "execution_count": 5,
      "id": "f390b8b8-ff3b-4a55-8038-72df4886b1ef",
      "metadata": {
        "id": "f390b8b8-ff3b-4a55-8038-72df4886b1ef"
      },
      "outputs": [],
      "source": [
        "os.environ['PYSPARK_SUBMIT_ARGS'] = '--packages com.databricks:spark-xml_2.12:0.14.0 pyspark-shell'"
      ]
    },
    {
      "cell_type": "code",
      "execution_count": 24,
      "id": "93da5bbf-5795-402d-b1a0-9b36f319d546",
      "metadata": {
        "colab": {
          "base_uri": "https://localhost:8080/",
          "height": 196
        },
        "id": "93da5bbf-5795-402d-b1a0-9b36f319d546",
        "outputId": "113c2f3c-dad9-487b-d6a5-f5eacf68f494"
      },
      "outputs": [
        {
          "data": {
            "text/html": [
              "\n",
              "        <div>\n",
              "            <p><b>SparkContext</b></p>\n",
              "\n",
              "            <p><a href=\"http://17e0be12b6c0:4040\">Spark UI</a></p>\n",
              "\n",
              "            <dl>\n",
              "              <dt>Version</dt>\n",
              "                <dd><code>v3.0.0</code></dd>\n",
              "              <dt>Master</dt>\n",
              "                <dd><code>local[*]</code></dd>\n",
              "              <dt>AppName</dt>\n",
              "                <dd><code>pyspark-shell</code></dd>\n",
              "            </dl>\n",
              "        </div>\n",
              "        "
            ],
            "text/plain": [
              "<SparkContext master=local[*] appName=pyspark-shell>"
            ]
          },
          "execution_count": 24,
          "metadata": {},
          "output_type": "execute_result"
        }
      ],
      "source": [
        "try:\n",
        "    sc = SparkContext.getOrCreate()\n",
        "    sc.setLogLevel(\"ERROR\")\n",
        "except:\n",
        "    conf = SparkConf().setAppName(\"lb2\").setMaster('local[1]')\n",
        "    sc = SparkContext(conf=conf)\n",
        "    sc.setLogLevel(\"ERROR\")\n",
        "spark = SparkSession(sc)\n",
        "\n",
        "sc"
      ]
    },
    {
      "cell_type": "code",
      "execution_count": null,
      "id": "yb_KSAItJs1P",
      "metadata": {
        "id": "yb_KSAItJs1P"
      },
      "outputs": [],
      "source": [
        "with open(\"posts_sample.xml\", \"wb\") as f:\n",
        "    request = requests.get(\"https://git.ai.ssau.ru/tk/big_data/raw/branch/bachelor/data/posts_sample.xml\")\n",
        "    f.write(request.content)\n",
        "\n",
        "with open(\"programming-languages.csv\", \"wb\") as f:\n",
        "    request = requests.get(\"https://git.ai.ssau.ru/tk/big_data/raw/branch/bachelor/data/programming-languages.csv\")\n",
        "    f.write(request.content)"
      ]
    },
    {
      "cell_type": "code",
      "execution_count": 13,
      "id": "658c3b55-ff05-46f9-b29c-97aec9c7c4cc",
      "metadata": {
        "id": "658c3b55-ff05-46f9-b29c-97aec9c7c4cc"
      },
      "outputs": [],
      "source": [
        "postsSample = spark.read.format('xml')\\\n",
        "  .option('rootTag', 'posts')\\\n",
        "  .option('rowTag', 'row')\\\n",
        "  .load(\"posts_sample.xml\")\\\n",
        "  .select(\"_CreationDate\", \"_ViewCount\", \"_Tags\")"
      ]
    },
    {
      "cell_type": "code",
      "execution_count": 15,
      "id": "fa601cb9-4e9e-4132-a01d-0920aac53536",
      "metadata": {
        "colab": {
          "base_uri": "https://localhost:8080/"
        },
        "id": "fa601cb9-4e9e-4132-a01d-0920aac53536",
        "outputId": "f481aac7-c2e7-4f80-a9a0-c8268b3112e7"
      },
      "outputs": [
        {
          "data": {
            "text/plain": [
              "DataFrame[name: string, wikipedia_url: string]"
            ]
          },
          "execution_count": 15,
          "metadata": {},
          "output_type": "execute_result"
        }
      ],
      "source": [
        "languages = spark.read\\\n",
        "  .option(\"header\", True)\\\n",
        "  .option(\"inferSchema\", True)\\\n",
        "  .csv(\"programming-languages.csv\")\n",
        "\n",
        "languages"
      ]
    },
    {
      "cell_type": "code",
      "execution_count": null,
      "id": "E-NIFoe-gu26",
      "metadata": {
        "id": "E-NIFoe-gu26"
      },
      "outputs": [],
      "source": [
        "names = languages.select(\"name\").rdd.map(lambda x: x[0].lower()).collect()\n",
        "\n",
        "ps = postsSample\\\n",
        "  .filter(col(\"_Tags\").isNotNull())\\\n",
        "  .rdd\\\n",
        "  .map(lambda x: (str(x[\"_CreationDate\"]).split('-')[0], x[\"_ViewCount\"], x[\"_Tags\"][1:-1].split('><')))\\\n",
        "  .toDF([\"year\", \"views\", \"languages\"])\\\n",
        "  .filter((col(\"year\") >= 2010) & (col(\"year\") <= 2020))\\\n",
        "  .select(\"year\", \"views\", explode(\"languages\").alias(\"language\"))\\\n",
        "  .filter(col(\"language\").isin(names))\\\n",
        "  .groupBy(\"year\", \"language\")\\\n",
        "  .agg({\"views\": \"sum\"})\\\n",
        "\n",
        "ps.show()"
      ]
    },
    {
      "cell_type": "code",
      "execution_count": null,
      "id": "Oor0sJAOhXNC",
      "metadata": {
        "id": "Oor0sJAOhXNC"
      },
      "outputs": [],
      "source": [
        "window = Window.partitionBy(ps['year']).orderBy(ps['sum(views)'].desc())\n",
        "ps10 = ps\\\n",
        "  .select('*', row_number().over(window).alias('row_number'))\\\n",
        "  .filter(col('row_number') <= 10)\\\n",
        "  .withColumnRenamed(\"sum(views)\", \"views\")\\\n",
        "  .orderBy(col(\"year\").asc(), col(\"sum(views)\").desc())\n",
        "\n",
        "ps10.show()"
      ]
    },
    {
      "cell_type": "code",
      "execution_count": 22,
      "id": "l9_tFgISiAZz",
      "metadata": {
        "id": "l9_tFgISiAZz"
      },
      "outputs": [],
      "source": [
        "ps10.write.mode('overwrite').parquet(\"top_langs.parquet\")"
      ]
    }
  ],
  "metadata": {
    "colab": {
      "provenance": []
    },
    "kernelspec": {
      "display_name": "Python 3",
      "language": "python",
      "name": "python3"
    },
    "language_info": {
      "codemirror_mode": {
        "name": "ipython",
        "version": 3
      },
      "file_extension": ".py",
      "mimetype": "text/x-python",
      "name": "python",
      "nbconvert_exporter": "python",
      "pygments_lexer": "ipython3",
      "version": "3.9.5"
    }
  },
  "nbformat": 4,
  "nbformat_minor": 5
}
