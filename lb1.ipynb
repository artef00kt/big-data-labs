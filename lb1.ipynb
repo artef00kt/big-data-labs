{
  "cells": [
    {
      "cell_type": "code",
      "source": [
        "!pip3 install pyspark==3.0.0"
      ],
      "metadata": {
        "colab": {
          "base_uri": "https://localhost:8080/"
        },
        "id": "MdUctp3calOh",
        "outputId": "7b30543e-e253-4e98-e554-fae35c657eb9"
      },
      "id": "MdUctp3calOh",
      "execution_count": 1,
      "outputs": [
        {
          "output_type": "stream",
          "name": "stdout",
          "text": [
            "Collecting pyspark==3.0.0\n",
            "  Downloading pyspark-3.0.0.tar.gz (204.7 MB)\n",
            "\u001b[2K     \u001b[90m━━━━━━━━━━━━━━━━━━━━━━━━━━━━━━━━━━━━━━━━\u001b[0m \u001b[32m204.7/204.7 MB\u001b[0m \u001b[31m3.4 MB/s\u001b[0m eta \u001b[36m0:00:00\u001b[0m\n",
            "\u001b[?25h  Preparing metadata (setup.py) ... \u001b[?25l\u001b[?25hdone\n",
            "Collecting py4j==0.10.9 (from pyspark==3.0.0)\n",
            "  Downloading py4j-0.10.9-py2.py3-none-any.whl (198 kB)\n",
            "\u001b[2K     \u001b[90m━━━━━━━━━━━━━━━━━━━━━━━━━━━━━━━━━━━━━━━━\u001b[0m \u001b[32m198.6/198.6 kB\u001b[0m \u001b[31m15.1 MB/s\u001b[0m eta \u001b[36m0:00:00\u001b[0m\n",
            "\u001b[?25hBuilding wheels for collected packages: pyspark\n",
            "  Building wheel for pyspark (setup.py) ... \u001b[?25l\u001b[?25hdone\n",
            "  Created wheel for pyspark: filename=pyspark-3.0.0-py2.py3-none-any.whl size=205044159 sha256=9453139688632b5bbddab9429375bf1b5dbae6d1628c550de6c2cecabe72bd10\n",
            "  Stored in directory: /root/.cache/pip/wheels/b1/bb/8b/ca24d3f756f2ed967225b0871898869db676eb5846df5adc56\n",
            "Successfully built pyspark\n",
            "Installing collected packages: py4j, pyspark\n",
            "  Attempting uninstall: py4j\n",
            "    Found existing installation: py4j 0.10.9.7\n",
            "    Uninstalling py4j-0.10.9.7:\n",
            "      Successfully uninstalled py4j-0.10.9.7\n",
            "Successfully installed py4j-0.10.9 pyspark-3.0.0\n"
          ]
        }
      ]
    },
    {
      "cell_type": "code",
      "execution_count": 2,
      "id": "5d881463-22b9-4cb2-856c-653ef484729b",
      "metadata": {
        "id": "5d881463-22b9-4cb2-856c-653ef484729b"
      },
      "outputs": [],
      "source": [
        "import pyspark.sql as sql\n",
        "from pyspark import SparkContext, SparkConf\n",
        "from pyspark.sql import SparkSession\n",
        "from pyspark.sql.functions import col\n",
        "from pyspark.sql import functions\n",
        "import requests\n",
        "from geopy.distance import geodesic"
      ]
    },
    {
      "cell_type": "code",
      "execution_count": 3,
      "id": "7be967db-1995-4d25-b6a8-66b2c1667b3e",
      "metadata": {
        "colab": {
          "base_uri": "https://localhost:8080/",
          "height": 196
        },
        "id": "7be967db-1995-4d25-b6a8-66b2c1667b3e",
        "outputId": "141f5c10-7179-4cbe-ae75-659325491057"
      },
      "outputs": [
        {
          "output_type": "execute_result",
          "data": {
            "text/plain": [
              "<SparkContext master=local[*] appName=pyspark-shell>"
            ],
            "text/html": [
              "\n",
              "        <div>\n",
              "            <p><b>SparkContext</b></p>\n",
              "\n",
              "            <p><a href=\"http://1780eb4ed584:4040\">Spark UI</a></p>\n",
              "\n",
              "            <dl>\n",
              "              <dt>Version</dt>\n",
              "                <dd><code>v3.0.0</code></dd>\n",
              "              <dt>Master</dt>\n",
              "                <dd><code>local[*]</code></dd>\n",
              "              <dt>AppName</dt>\n",
              "                <dd><code>pyspark-shell</code></dd>\n",
              "            </dl>\n",
              "        </div>\n",
              "        "
            ]
          },
          "metadata": {},
          "execution_count": 3
        }
      ],
      "source": [
        "try:\n",
        "    sc = SparkContext.getOrCreate()\n",
        "    sc.setLogLevel(\"ERROR\")\n",
        "except:\n",
        "    conf = SparkConf().setAppName(\"lb1\").setMaster('local[1]')\n",
        "    sc = SparkContext(conf=conf)\n",
        "    sc.setLogLevel(\"ERROR\")\n",
        "\n",
        "spark = SparkSession(sc)\n",
        "\n",
        "sc"
      ]
    },
    {
      "cell_type": "code",
      "source": [
        "with open(\"stations.csv\", \"wb\") as f:\n",
        "    request = requests.get(\"https://git.ai.ssau.ru/tk/big_data/raw/branch/bachelor/data/stations.csv\")\n",
        "    f.write(request.content)\n",
        "\n",
        "with open(\"trips.csv\", \"wb\") as f:\n",
        "    request = requests.get(\"https://git.ai.ssau.ru/tk/big_data/raw/branch/bachelor/data/trips.csv\")\n",
        "    f.write(request.content)"
      ],
      "metadata": {
        "id": "EBBQZjgqeOOs"
      },
      "id": "EBBQZjgqeOOs",
      "execution_count": 4,
      "outputs": []
    },
    {
      "cell_type": "code",
      "execution_count": 5,
      "id": "092e2f07-74cd-422d-a1e4-9f7d203ce939",
      "metadata": {
        "colab": {
          "base_uri": "https://localhost:8080/"
        },
        "id": "092e2f07-74cd-422d-a1e4-9f7d203ce939",
        "outputId": "edc4b998-f0ee-46af-ca14-d798cd7661c7"
      },
      "outputs": [
        {
          "output_type": "execute_result",
          "data": {
            "text/plain": [
              "DataFrame[id: int, duration: int, start_date: timestamp, start_station_name: string, start_station_id: int, end_date: timestamp, end_station_name: string, end_station_id: int, bike_id: int, subscription_type: string, zip_code: string]"
            ]
          },
          "metadata": {},
          "execution_count": 5
        }
      ],
      "source": [
        "tripData = spark.read\\\n",
        "  .option(\"header\", True)\\\n",
        "  .option(\"inferSchema\", True)\\\n",
        "  .option(\"timestampFormat\", 'M/d/y H:m')\\\n",
        "  .csv(\"trips.csv\")\n",
        "\n",
        "tripData"
      ]
    },
    {
      "cell_type": "code",
      "execution_count": 6,
      "id": "016a7b75-db1a-4043-9d2e-892c95f61fc4",
      "metadata": {
        "colab": {
          "base_uri": "https://localhost:8080/"
        },
        "id": "016a7b75-db1a-4043-9d2e-892c95f61fc4",
        "outputId": "5f37f342-6779-4cf5-c613-1233703bfede"
      },
      "outputs": [
        {
          "output_type": "execute_result",
          "data": {
            "text/plain": [
              "DataFrame[id: int, name: string, lat: double, long: double, dock_count: int, city: string, installation_date: timestamp]"
            ]
          },
          "metadata": {},
          "execution_count": 6
        }
      ],
      "source": [
        "stationData = spark.read\\\n",
        "  .option(\"header\", True)\\\n",
        "  .option(\"inferSchema\", True)\\\n",
        "  .option(\"timestampFormat\", 'M/d/y')\\\n",
        "  .csv(\"stations.csv\")\n",
        "\n",
        "stationData"
      ]
    },
    {
      "cell_type": "markdown",
      "id": "052596ee-de0f-4587-b9e2-229d64b9bbc7",
      "metadata": {
        "id": "052596ee-de0f-4587-b9e2-229d64b9bbc7"
      },
      "source": [
        "#**Задание №1: Найти велосипед с максимальным временем пробега**"
      ]
    },
    {
      "cell_type": "code",
      "execution_count": 8,
      "id": "b1b52b35-44a7-4fb8-9acf-e2933d1250ea",
      "metadata": {
        "colab": {
          "base_uri": "https://localhost:8080/"
        },
        "id": "b1b52b35-44a7-4fb8-9acf-e2933d1250ea",
        "outputId": "43ad8d9f-6759-464f-9a9f-2d1832b92815"
      },
      "outputs": [
        {
          "output_type": "stream",
          "name": "stdout",
          "text": [
            "+-------+--------+\n",
            "|bike_id|     dur|\n",
            "+-------+--------+\n",
            "|    535|18611693|\n",
            "+-------+--------+\n",
            "\n"
          ]
        }
      ],
      "source": [
        "tripData\\\n",
        "  .groupBy(\"bike_id\")\\\n",
        "  .agg(\n",
        "        functions\\\n",
        "        .sum(\"duration\")\\\n",
        "        .alias(\"dur\")\n",
        "      )\\\n",
        "  .orderBy(functions.desc(\"dur\"))\\\n",
        "  .limit(1)\\\n",
        "  .show()"
      ]
    },
    {
      "cell_type": "markdown",
      "id": "e887a815-86ca-464c-bbda-bb72a76adff1",
      "metadata": {
        "id": "e887a815-86ca-464c-bbda-bb72a76adff1"
      },
      "source": [
        "#**Задание 2: Найти наибольшее геодезическое расстояние между станциями.**\n"
      ]
    },
    {
      "cell_type": "code",
      "source": [
        "stations_coordinates = stationData\\\n",
        "  .select(\"id\", \"lat\", \"long\")\\\n",
        "  .withColumnRenamed(\"lat\", \"lat1\")\\\n",
        "  .withColumnRenamed(\"long\", \"long1\")\\\n",
        "  .createOrReplaceTempView(\"stations_coordinates\")\\\n",
        "\n",
        "\n",
        "station_combinations = spark.sql(\"\"\"\n",
        "    SELECT a.id as station1, b.id as station2, a.lat1, a.long1, b.lat1 as lat2, b.long1 as long2\n",
        "    FROM stations_coordinates a\n",
        "    CROSS JOIN stations_coordinates b\n",
        "    WHERE a.id < b.id\n",
        "\"\"\")\n",
        "\n",
        "calculate_distance_udf = spark.udf.register(\n",
        "    \"calculate_distance\",\n",
        "     lambda lat1, lon1, lat2, lon2: geodesic((lat1, lon1), (lat2, lon2)).kilometers\n",
        ")\n",
        "\n",
        "print(\n",
        "  station_combinations\\\n",
        "    .withColumn(\"distance\", calculate_distance_udf(\"lat1\", \"long1\", \"lat2\", \"long2\"))\\\n",
        "    .select(\"station1\", \"station2\", \"distance\").orderBy(col(\"distance\").desc())\\\n",
        "    .first()\\\n",
        "    ['distance']\n",
        ")"
      ],
      "metadata": {
        "colab": {
          "base_uri": "https://localhost:8080/"
        },
        "id": "FTiZLvWFF2df",
        "outputId": "06b9c5bd-fbe1-4fd7-dfda-b17ece07822c"
      },
      "id": "FTiZLvWFF2df",
      "execution_count": 9,
      "outputs": [
        {
          "output_type": "stream",
          "name": "stdout",
          "text": [
            "9.669526104642657\n"
          ]
        }
      ]
    },
    {
      "cell_type": "markdown",
      "source": [
        "#**Задание 3. Найти путь велосипеда с максимальным временем пробега через станции.**"
      ],
      "metadata": {
        "id": "QG3tvMBCEnyB"
      },
      "id": "QG3tvMBCEnyB"
    },
    {
      "cell_type": "code",
      "source": [
        "max_dur_trip = tripData\\\n",
        "    .orderBy(col(\"duration\").desc())\\\n",
        "    .limit(1)\\\n",
        "    .select(\"start_station_name\", \"end_station_name\")\\\n",
        "    .first()\n",
        "\n",
        "filtered_joined_station = stationData.filter((col(\"name\") == max_dur_trip.start_station_name) | (col(\"name\") == max_dur_trip.end_station_name))\n",
        "\n",
        "filtered_joined_station\\\n",
        "  .crossJoin(filtered_joined_station.select(col(\"name\").alias(\"end_station_name\"), col(\"lat\").alias(\"end_lat\"), col(\"long\").alias(\"end_long\")))\\\n",
        "  .withColumn(\"distance\", calculate_distance_udf(col(\"lat\"), col(\"long\"), col(\"end_lat\"), col(\"end_long\")))\\\n",
        "  .select(\"name\", \"end_station_name\", \"distance\")\\\n",
        "  .filter((col(\"name\") != col(\"end_station_name\")) & (col(\"distance\") != 0))\\\n",
        "  .show()"
      ],
      "metadata": {
        "colab": {
          "base_uri": "https://localhost:8080/"
        },
        "id": "tTjdv-K9JiHY",
        "outputId": "9a908fbd-e06e-4979-f6ff-8f1e77006c6f"
      },
      "id": "tTjdv-K9JiHY",
      "execution_count": 10,
      "outputs": [
        {
          "output_type": "stream",
          "name": "stdout",
          "text": [
            "+--------------------+--------------------+------------------+\n",
            "|                name|    end_station_name|          distance|\n",
            "+--------------------+--------------------+------------------+\n",
            "|       2nd at Folsom|South Van Ness at...|2.3150845505323323|\n",
            "|South Van Ness at...|       2nd at Folsom|2.3150845505323323|\n",
            "+--------------------+--------------------+------------------+\n",
            "\n"
          ]
        }
      ]
    },
    {
      "cell_type": "markdown",
      "id": "84bc4ea1-5d64-480f-8c2b-1fbb5e40e0cf",
      "metadata": {
        "id": "84bc4ea1-5d64-480f-8c2b-1fbb5e40e0cf"
      },
      "source": [
        "#**Задание 4. Найти количество велосипедов в системе.**"
      ]
    },
    {
      "cell_type": "code",
      "execution_count": 11,
      "id": "9f9b7f50-057f-40e9-ba6c-5eaf5604e5b0",
      "metadata": {
        "colab": {
          "base_uri": "https://localhost:8080/"
        },
        "id": "9f9b7f50-057f-40e9-ba6c-5eaf5604e5b0",
        "outputId": "3c84e999-a38e-46f0-af0c-eb9e2344512c"
      },
      "outputs": [
        {
          "output_type": "stream",
          "name": "stdout",
          "text": [
            "700\n"
          ]
        }
      ],
      "source": [
        "print(\n",
        "  tripData\\\n",
        "    .select(\"bike_id\")\\\n",
        "    .distinct()\\\n",
        "    .count()\n",
        ")"
      ]
    },
    {
      "cell_type": "markdown",
      "id": "332fa12f-3928-4fcf-b761-f769d87f3c64",
      "metadata": {
        "id": "332fa12f-3928-4fcf-b761-f769d87f3c64"
      },
      "source": [
        "#**Задание 5. Найти пользователей потративших на поездки более 3 часов.**\n"
      ]
    },
    {
      "cell_type": "code",
      "execution_count": 12,
      "id": "0d5a85c6-d85f-4ed1-bbb6-9ec2ecf9478a",
      "metadata": {
        "colab": {
          "base_uri": "https://localhost:8080/"
        },
        "id": "0d5a85c6-d85f-4ed1-bbb6-9ec2ecf9478a",
        "outputId": "f2873eeb-909d-40b5-f670-09ece8881537"
      },
      "outputs": [
        {
          "output_type": "stream",
          "name": "stdout",
          "text": [
            "+------+------------+\n",
            "|    id|sum_duration|\n",
            "+------+------------+\n",
            "|  6654|       17751|\n",
            "| 22097|       21686|\n",
            "| 22223|       15619|\n",
            "| 30654|       13479|\n",
            "| 34759|       17959|\n",
            "| 43688|       22504|\n",
            "| 88666|       21964|\n",
            "| 88674|       13726|\n",
            "|105536|       19854|\n",
            "|143153|       20649|\n",
            "|146988|       44084|\n",
            "|189310|       21785|\n",
            "|431881|       28377|\n",
            "|431018|       12301|\n",
            "|427387|       12612|\n",
            "|418759|       15526|\n",
            "|418461|       15103|\n",
            "|410754|       16743|\n",
            "|386707|       14313|\n",
            "|305619|       12412|\n",
            "+------+------------+\n",
            "only showing top 20 rows\n",
            "\n"
          ]
        }
      ],
      "source": [
        "tripData\\\n",
        "  .groupBy(\"id\")\\\n",
        "  .agg({\"duration\": \"sum\"})\\\n",
        "  .withColumnRenamed(\"sum(duration)\", \"sum_duration\")\\\n",
        "  .filter(col(\"sum_duration\") > 60*60*3)\\\n",
        "  .show()"
      ]
    }
  ],
  "metadata": {
    "kernelspec": {
      "display_name": "Python 3",
      "language": "python",
      "name": "python3"
    },
    "language_info": {
      "codemirror_mode": {
        "name": "ipython",
        "version": 3
      },
      "file_extension": ".py",
      "mimetype": "text/x-python",
      "name": "python",
      "nbconvert_exporter": "python",
      "pygments_lexer": "ipython3",
      "version": "3.9.5"
    },
    "colab": {
      "provenance": []
    }
  },
  "nbformat": 4,
  "nbformat_minor": 5
}